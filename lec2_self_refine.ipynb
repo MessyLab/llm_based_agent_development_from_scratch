{
 "cells": [
  {
   "cell_type": "markdown",
   "metadata": {},
   "source": [
    "# Self-refine"
   ]
  },
  {
   "cell_type": "code",
   "execution_count": 2,
   "metadata": {},
   "outputs": [],
   "source": [
    "from openai import OpenAI\n",
    "from typing import List, Dict\n",
    "\n",
    "\n",
    "def ask(messages: List[Dict]):\n",
    "        client = OpenAI(api_key='YOUR OPENAI KEY')\n",
    "        response = client.chat.completions.create(\n",
    "                model = 'gpt-4o-mini-2024-07-18',\n",
    "                temperature = 0,\n",
    "                messages = messages\n",
    "        )\n",
    "\n",
    "        return response"
   ]
  },
  {
   "cell_type": "markdown",
   "metadata": {},
   "source": [
    "## 1st time interacting with OpenAI"
   ]
  },
  {
   "cell_type": "code",
   "execution_count": 3,
   "metadata": {},
   "outputs": [],
   "source": [
    "# reference https://github.com/andrewyng/translation-agent\n",
    "\n",
    "source_text = \"\"\"\n",
    "Last week, I spoke about AI and regulation at the U.S. Capitol at an event that was attended by legislative and business leaders. I’m encouraged by the progress the open source community has made fending off regulations that would have stifled innovation. But opponents of open source are continuing to shift their arguments, with the latest worries centering on open source's impact on national security. I hope we’ll all keep protecting open source!\n",
    "\n",
    "Based on my conversations with legislators, I’m encouraged by the progress the U.S. federal government has made getting a realistic grasp of AI’s risks. To be clear, guardrails are needed. But they should be applied to AI applications, not to general-purpose AI technology.\n",
    "\"\"\""
   ]
  },
  {
   "cell_type": "code",
   "execution_count": 8,
   "metadata": {},
   "outputs": [
    {
     "name": "stdout",
     "output_type": "stream",
     "text": [
      "This is an English to Traditional Chinese translation, please provide the Traditional Chinese translation for this text. Do not provide any explanations or text apart from the translation.\n",
      "English: \n",
      "Last week, I spoke about AI and regulation at the U.S. Capitol at an event that was attended by legislative and business leaders. I’m encouraged by the progress the open source community has made fending off regulations that would have stifled innovation. But opponents of open source are continuing to shift their arguments, with the latest worries centering on open source's impact on national security. I hope we’ll all keep protecting open source!\n",
      "\n",
      "Based on my conversations with legislators, I’m encouraged by the progress the U.S. federal government has made getting a realistic grasp of AI’s risks. To be clear, guardrails are needed. But they should be applied to AI applications, not to general-purpose AI technology.\n",
      "\n",
      "\n",
      "Traditional Chinese:\n"
     ]
    }
   ],
   "source": [
    "## system prompt\n",
    "first_translate_system_message = f\"You are an expert linguist, specializing in translation from English to Traditional Chinese.\"\n",
    "\n",
    "## user prompt\n",
    "\n",
    "first_user_translation_prompt = f\"\"\"This is an English to Traditional Chinese translation, please provide the Traditional Chinese translation for this text. \\\n",
    "Do not provide any explanations or text apart from the translation.\n",
    "English: {source_text}\n",
    "\n",
    "Traditional Chinese:\"\"\"\n",
    "\n",
    "## 将 source text 作为参数传入，构造好完整的输入\n",
    "first_user_prompt = first_user_translation_prompt.format(source_text=source_text)\n",
    "\n",
    "print(first_user_prompt)"
   ]
  },
  {
   "cell_type": "code",
   "execution_count": 9,
   "metadata": {},
   "outputs": [
    {
     "name": "stdout",
     "output_type": "stream",
     "text": [
      "上週，我在美國國會大廈的活動中談到了人工智慧和監管，該活動有立法和商業領袖參加。我對開源社群在抵禦可能扼殺創新的監管方面所取得的進展感到鼓舞。但開源的反對者仍在不斷改變他們的論點，最新的擔憂集中在開源對國家安全的影響上。我希望我們都能繼續保護開源！\n",
      "\n",
      "根據我與立法者的對話，我對美國聯邦政府在實際掌握人工智慧風險方面所取得的進展感到鼓舞。需要明確的是，確實需要一些護欄。但這些護欄應該適用於人工智慧應用，而不是通用人工智慧技術。\n"
     ]
    }
   ],
   "source": [
    "messages = [\n",
    "    {\"role\":\"system\", \"content\": first_translate_system_message},\n",
    "    {\"role\":\"user\", \"content\": first_user_prompt}\n",
    "]\n",
    "\n",
    "first_response = ask(messages=messages)\n",
    "\n",
    "translation_1 = first_response.choices[0].message.content\n",
    "print(translation_1)"
   ]
  },
  {
   "cell_type": "markdown",
   "metadata": {},
   "source": [
    "## 2ed time interacting with OpenAI"
   ]
  },
  {
   "cell_type": "code",
   "execution_count": 10,
   "metadata": {},
   "outputs": [],
   "source": [
    "reflect_system_prompt = \"You are an expert linguist specializing in translation from English to Traditional Chinese. \\\n",
    "You will be provided with a source text and its translation and your goal is to improve the translation.\""
   ]
  },
  {
   "cell_type": "code",
   "execution_count": 12,
   "metadata": {},
   "outputs": [
    {
     "name": "stdout",
     "output_type": "stream",
     "text": [
      "Your task is to carefully read a source text and a translation from English to Traditional Chinese, and then give constructive criticism and helpful suggestions to improve the translation. \n",
      "The source text and initial translation, delimited by XML tags <SOURCE_TEXT></SOURCE_TEXT> and <TRANSLATION></TRANSLATION>, are as follows:\n",
      "\n",
      "<SOURCE_TEXT>\n",
      "\n",
      "Last week, I spoke about AI and regulation at the U.S. Capitol at an event that was attended by legislative and business leaders. I’m encouraged by the progress the open source community has made fending off regulations that would have stifled innovation. But opponents of open source are continuing to shift their arguments, with the latest worries centering on open source's impact on national security. I hope we’ll all keep protecting open source!\n",
      "\n",
      "Based on my conversations with legislators, I’m encouraged by the progress the U.S. federal government has made getting a realistic grasp of AI’s risks. To be clear, guardrails are needed. But they should be applied to AI applications, not to general-purpose AI technology.\n",
      "\n",
      "</SOURCE_TEXT>\n",
      "\n",
      "<TRANSLATION>\n",
      "上週，我在美國國會大廈的活動中談到了人工智慧和監管，該活動有立法和商業領袖參加。我對開源社群在抵禦可能扼殺創新的監管方面所取得的進展感到鼓舞。但開源的反對者仍在不斷改變他們的論點，最新的擔憂集中在開源對國家安全的影響上。我希望我們都能繼續保護開源！\n",
      "\n",
      "根據我與立法者的對話，我對美國聯邦政府在實際掌握人工智慧風險方面所取得的進展感到鼓舞。需要明確的是，確實需要一些護欄。但這些護欄應該適用於人工智慧應用，而不是通用人工智慧技術。\n",
      "</TRANSLATION>\n",
      "\n",
      "When writing suggestions, pay attention to whether there are ways to improve the translation's \n",
      "(i) accuracy (by correcting errors of addition, mistranslation, omission, or untranslated text),\n",
      "(ii) fluency (by applying Traditional Chinese grammar, spelling and punctuation rules, and ensuring there are no unnecessary repetitions),\n",
      "(iii) style (by ensuring the translations reflect the style of the source text and takes into account any cultural context),\n",
      "(iv) terminology (by ensuring terminology use is consistent and reflects the source text domain; and by only ensuring you use equivalent idioms Traditional Chinese).\n",
      "\n",
      "Write a list of specific, helpful and constructive suggestions for improving the translation.\n",
      "Each suggestion should address one specific part of the translation.\n",
      "Output only the suggestions and nothing else.\n"
     ]
    }
   ],
   "source": [
    "reflect_prompt = f\"\"\"Your task is to carefully read a source text and a translation from English to Traditional Chinese, and then give constructive criticism and helpful suggestions to improve the translation. \\\n",
    "\n",
    "The source text and initial translation, delimited by XML tags <SOURCE_TEXT></SOURCE_TEXT> and <TRANSLATION></TRANSLATION>, are as follows:\n",
    "\n",
    "<SOURCE_TEXT>\n",
    "{source_text}\n",
    "</SOURCE_TEXT>\n",
    "\n",
    "<TRANSLATION>\n",
    "{translation_1}\n",
    "</TRANSLATION>\n",
    "\n",
    "When writing suggestions, pay attention to whether there are ways to improve the translation's \\n\\\n",
    "(i) accuracy (by correcting errors of addition, mistranslation, omission, or untranslated text),\\n\\\n",
    "(ii) fluency (by applying Traditional Chinese grammar, spelling and punctuation rules, and ensuring there are no unnecessary repetitions),\\n\\\n",
    "(iii) style (by ensuring the translations reflect the style of the source text and takes into account any cultural context),\\n\\\n",
    "(iv) terminology (by ensuring terminology use is consistent and reflects the source text domain; and by only ensuring you use equivalent idioms Traditional Chinese).\\n\\\n",
    "\n",
    "Write a list of specific, helpful and constructive suggestions for improving the translation.\n",
    "Each suggestion should address one specific part of the translation.\n",
    "Output only the suggestions and nothing else.\"\"\"\n",
    "\n",
    "feedback_user_prompt = reflect_prompt.format(\n",
    "        source_text=source_text,\n",
    "        translation_1=translation_1,\n",
    "    )\n",
    "\n",
    "print(feedback_user_prompt)"
   ]
  },
  {
   "cell_type": "code",
   "execution_count": 13,
   "metadata": {},
   "outputs": [
    {
     "name": "stdout",
     "output_type": "stream",
     "text": [
      "1. In the phrase \"在美國國會大廈的活動中談到了人工智慧和監管,\" consider changing \"的活動中\" to \"的活動上\" for better fluency and to reflect the context of speaking at an event.\n",
      "\n",
      "2. The term \"開源社群\" could be improved to \"開源社群體\" to better reflect the community aspect and align with common terminology used in discussions about open source.\n",
      "\n",
      "3. The phrase \"抵禦可能扼殺創新的監管方面所取得的進展\" can be simplified to \"抵禦可能扼殺創新的監管所取得的進展\" to enhance clarity and fluency by removing the unnecessary \"方面.\"\n",
      "\n",
      "4. In \"開源的反對者仍在不斷改變他們的論點,\" consider changing \"開源的反對者\" to \"反對開源的人士\" for a more natural expression in Traditional Chinese.\n",
      "\n",
      "5. The phrase \"最新的擔憂集中在開源對國家安全的影響上\" could be rephrased to \"最新的擔憂集中於開源對國家安全的影響\" to improve fluency by using \"集中於\" instead of \"集中在.\"\n",
      "\n",
      "6. In \"我希望我們都能繼續保護開源！\", consider changing \"保護\" to \"維護\" to better convey the idea of supporting and upholding open source.\n",
      "\n",
      "7. The phrase \"根據我與立法者的對話\" could be improved to \"根據我與立法者的交流\" to better reflect the nature of the interactions and enhance fluency.\n",
      "\n",
      "8. The term \"實際掌握\" in \"在實際掌握人工智慧風險方面所取得的進展\" could be changed to \"對人工智慧風險的實際理解\" for better accuracy and clarity.\n",
      "\n",
      "9. The phrase \"需要明確的是，確實需要一些護欄\" can be rephrased to \"需要明確的是，確實需要設置一些護欄\" to enhance clarity and fluency.\n",
      "\n",
      "10. In \"這些護欄應該適用於人工智慧應用，而不是通用人工智慧技術,\" consider changing \"通用人工智慧技術\" to \"通用型人工智慧技術\" for consistency in terminology and to better reflect the concept of general-purpose AI.\n"
     ]
    }
   ],
   "source": [
    "message2 = [\n",
    "    {\"role\":\"system\", \"content\": reflect_system_prompt},\n",
    "    {\"role\":\"user\", \"content\": feedback_user_prompt}\n",
    "]\n",
    "\n",
    "response = ask(messages=message2)\n",
    "\n",
    "reflection = response.choices[0].message.content\n",
    "print(reflection)"
   ]
  },
  {
   "cell_type": "markdown",
   "metadata": {},
   "source": [
    "## 3rd time interacting with OpenAI"
   ]
  },
  {
   "cell_type": "code",
   "execution_count": 14,
   "metadata": {},
   "outputs": [
    {
     "name": "stdout",
     "output_type": "stream",
     "text": [
      "上週，我在美國國會大廈的活動上談到了人工智慧和監管，該活動有立法和商業領袖參加。我對開源社群體在抵禦可能扼殺創新的監管所取得的進展感到鼓舞。但反對開源的人士仍在不斷改變他們的論點，最新的擔憂集中於開源對國家安全的影響。我希望我們都能繼續維護開源！\n",
      "\n",
      "根據我與立法者的交流，我對美國聯邦政府對人工智慧風險的實際理解所取得的進展感到鼓舞。需要明確的是，確實需要設置一些護欄。但這些護欄應該適用於人工智慧應用，而不是通用型人工智慧技術。\n"
     ]
    }
   ],
   "source": [
    "# system prompt\n",
    "refiner_system_prompt = f\"You are an expert linguist, specializing in translation editing from English to Traditional Chinese.\"\n",
    "\n",
    "# user content\n",
    "refined_translate_user_prompt = f\"\"\"Your task is to carefully read, then edit, a translation from English to Traditional Chinese, taking into\n",
    "account a list of expert suggestions and constructive criticisms.\n",
    "\n",
    "The source text, the initial translation, and the expert linguist suggestions are delimited by XML tags <SOURCE_TEXT></SOURCE_TEXT>, <TRANSLATION></TRANSLATION> and <EXPERT_SUGGESTIONS></EXPERT_SUGGESTIONS> \\\n",
    "as follows:\n",
    "\n",
    "<SOURCE_TEXT>\n",
    "{source_text}\n",
    "</SOURCE_TEXT>\n",
    "\n",
    "<TRANSLATION>\n",
    "{translation_1}\n",
    "</TRANSLATION>\n",
    "\n",
    "<EXPERT_SUGGESTIONS>\n",
    "{reflection}\n",
    "</EXPERT_SUGGESTIONS>\n",
    "\n",
    "Please take into account the expert suggestions when editing the translation. Edit the translation by ensuring:\n",
    "\n",
    "(i) accuracy (by correcting errors of addition, mistranslation, omission, or untranslated text),\n",
    "(ii) fluency (by applying Traditional Chinese grammar, spelling and punctuation rules and ensuring there are no unnecessary repetitions), \\\n",
    "(iii) style (by ensuring the translations reflect the style of the source text)\n",
    "(iv) terminology (inappropriate for context, inconsistent use), or\n",
    "(v) other errors.\n",
    "\n",
    "Output only the new translation and nothing else.\"\"\"\n",
    "\n",
    "refined_user_prompt = refined_translate_user_prompt.format(\n",
    "        source_text=source_text,\n",
    "        translation_1=translation_1,\n",
    "        reflection=reflection,\n",
    "    )\n",
    "\n",
    "message3 = [\n",
    "    {\"role\":\"system\", \"content\": refiner_system_prompt},\n",
    "    {\"role\":\"user\", \"content\": refined_user_prompt}\n",
    "]\n",
    "\n",
    "response = ask(messages=message3)\n",
    "\n",
    "translation_2 = response.choices[0].message.content\n",
    "print(translation_2)\n"
   ]
  },
  {
   "cell_type": "code",
   "execution_count": null,
   "metadata": {},
   "outputs": [],
   "source": []
  }
 ],
 "metadata": {
  "kernelspec": {
   "display_name": "Python 3",
   "language": "python",
   "name": "python3"
  },
  "language_info": {
   "codemirror_mode": {
    "name": "ipython",
    "version": 3
   },
   "file_extension": ".py",
   "mimetype": "text/x-python",
   "name": "python",
   "nbconvert_exporter": "python",
   "pygments_lexer": "ipython3",
   "version": "3.10.13"
  }
 },
 "nbformat": 4,
 "nbformat_minor": 2
}
