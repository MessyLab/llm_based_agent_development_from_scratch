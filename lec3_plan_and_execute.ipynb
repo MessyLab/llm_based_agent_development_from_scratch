{
 "cells": [
  {
   "cell_type": "markdown",
   "metadata": {},
   "source": [
    "# Plan and execute"
   ]
  },
  {
   "cell_type": "code",
   "execution_count": 3,
   "metadata": {},
   "outputs": [],
   "source": [
    "from openai import OpenAI\n",
    "from typing import List, Dict\n",
    "\n",
    "\n",
    "def ask(messages: List[Dict]):\n",
    "        client = OpenAI(api_key='YOUR OPENAI KEY')\n",
    "        response = client.chat.completions.create(\n",
    "                model = 'gpt-3.5-turbo-0125',\n",
    "                temperature = 0,\n",
    "                messages = messages\n",
    "        )\n",
    "\n",
    "        return response"
   ]
  },
  {
   "cell_type": "markdown",
   "metadata": {},
   "source": [
    "## 1. Plan"
   ]
  },
  {
   "cell_type": "code",
   "execution_count": 4,
   "metadata": {},
   "outputs": [],
   "source": [
    "# thanks to langchain\n",
    "\n",
    "plan_system_prompt = \"\"\"\n",
    "    Let's first understand the problem and devise a plan to solve the problem.\n",
    "    Please output the plan starting with the header 'Plan:' and then followed by a numbered list of steps. \n",
    "    Please make the plan the minimum number of steps required to accurately complete the task. If the task is a question, \n",
    "    the final step should almost always be 'Given the above steps taken, please respond to the users original question'. \n",
    "\"\"\"\n",
    "\n",
    "# user content\n",
    "question = 'the population gap between Toronto and New York city'\n",
    "\n",
    "# messages\n",
    "messages = [\n",
    "    {'role':'system', 'content': plan_system_prompt},\n",
    "    {'role':'user', 'content': question}\n",
    "]"
   ]
  },
  {
   "cell_type": "code",
   "execution_count": 5,
   "metadata": {},
   "outputs": [
    {
     "name": "stdout",
     "output_type": "stream",
     "text": [
      "Plan:\n",
      "1. Find the current population of Toronto.\n",
      "2. Find the current population of New York City.\n",
      "3. Calculate the population gap by subtracting the population of Toronto from the population of New York City.\n",
      "4. Given the above steps taken, please respond to the user's original question.\n"
     ]
    }
   ],
   "source": [
    "response = ask(messages)\n",
    "\n",
    "plans = response.choices[0].message.content\n",
    "print(plans)"
   ]
  },
  {
   "cell_type": "markdown",
   "metadata": {},
   "source": [
    "## 2. use tool"
   ]
  },
  {
   "cell_type": "code",
   "execution_count": 6,
   "metadata": {},
   "outputs": [],
   "source": [
    "from duckduckgo_search import DDGS\n",
    "\n",
    "def internet_search(query: str):\n",
    "    with DDGS() as ddgs:\n",
    "        ddgs_gen = ddgs.text(\n",
    "            query,\n",
    "            max_results=5, \n",
    "            region=\"wt-wt\", \n",
    "            safesearch=\"moderate\", \n",
    "            timelimit=\"y\",\n",
    "            backend=\"api\",\n",
    "        )\n",
    "        if ddgs_gen:\n",
    "            return [r for r in ddgs_gen]\n",
    "    return \"No results found.\""
   ]
  },
  {
   "cell_type": "code",
   "execution_count": 7,
   "metadata": {},
   "outputs": [
    {
     "data": {
      "text/plain": [
       "[{'title': 'Demographics of Toronto - Wikipedia',\n",
       "  'href': 'https://en.wikipedia.org/wiki/Demographics_of_Toronto',\n",
       "  'body': \"The last complete census by Statistics Canada, which was taken in 2021, estimated there were 2,794,356 living in Toronto, making it the most populous city in Canada and the fourth most populous municipality in North America.. Toronto's population grew by 2.3 percent from 2016 to 2021, with an annual growth rate of 0.46 percent.. 2011 Census population data for the City of Toronto are found ...\"},\n",
       " {'title': 'Toronto - Statistics & Facts | Statista',\n",
       "  'href': 'https://www.statista.com/topics/9849/toronto/',\n",
       "  'body': \"Editor's Picks Current statistics on this topic. Population. ... Premium Statistic Median age of Toronto's population in Canada 2001-2022 ...\"},\n",
       " {'title': 'Population estimates, July 1, by census metropolitan area and census ...',\n",
       "  'href': 'https://www150.statcan.gc.ca/t1/tbl1/en/tv.action?pid=1710014801',\n",
       "  'body': 'How to cite: Statistics Canada. Table 17-10-0148-01 Population estimates, July 1, by census metropolitan area and census agglomeration, 2021 boundaries'},\n",
       " {'title': 'Canada: population of Toronto 2022 | Statista',\n",
       "  'href': 'https://www.statista.com/statistics/1317437/population-toronto-canada/',\n",
       "  'body': 'Between 2001 and 2022, the population of the city of Toronto, in the Canadian province of Ontario, increased by around 35 percent. Indeed, the inhabitants of the metropolis were about 4.9 million ...'},\n",
       " {'title': 'Population of Toronto: Facts, Figures, and Trends',\n",
       "  'href': 'https://historyoftoronto.ca/blog/the-current-population-of-toronto-and-its-growth-trends-in-recent-years',\n",
       "  'body': 'The population of Toronto has been steadily growing over the years. In fact, it is estimated that the current population of Toronto is over 2.9 million people. The city has experienced significant population growth due to factors such as immigration, urbanization, and a high standard of living. How is the population of Toronto counted?'}]"
      ]
     },
     "execution_count": 7,
     "metadata": {},
     "output_type": "execute_result"
    }
   ],
   "source": [
    "# step1\n",
    "\n",
    "search_res = internet_search('the current population of Toronto')\n",
    "search_res"
   ]
  },
  {
   "cell_type": "code",
   "execution_count": 8,
   "metadata": {},
   "outputs": [
    {
     "data": {
      "text/plain": [
       "[{'title': \"NYC's Shifting Population: The Latest Statistics | Office of the New ...\",\n",
       "  'href': 'https://www.osc.ny.gov/reports/nycs-shifting-population-latest-statistics',\n",
       "  'body': \"Population shifts during and after the COVID-19 pandemic are changing the face of New York City. In the wake of the pandemic, the City's populace is overall older and wealthier, with a rebounding population of international migrants and declining shares of White and Black New Yorkers. The cost of living also rose as the pandemic subsided, making the City increasingly more expensive for lower ...\"},\n",
       " {'title': 'NYC population 2024: Roughly, how many people live in NYC? - FOX 5 New York',\n",
       "  'href': 'https://www.fox5ny.com/news/nyc-population-2024',\n",
       "  'body': 'New York City has a 2024 population of 7,931,147, according to data from World Population Review. World Population Review says New York City is currently declining at a rate of -2.49% annually and ...'},\n",
       " {'title': 'New York City - Statistics & Facts | Statista',\n",
       "  'href': 'https://www.statista.com/topics/9382/new-york-city/',\n",
       "  'body': 'Basic Statistic New York-Newark-Jersey City metro area population in the U.S. 2010-2022 Premium Statistic Resident population of New York City, NY, by race 2022'},\n",
       " {'title': 'New York City population clock live - current population of New York ...',\n",
       "  'href': 'https://worldpopulationclock.info/usa/new-york/new-york-city',\n",
       "  'body': \"On 01 Jul 2023 New York City population was estimated as 8544108 people. On 01 Jul 2024 New York City population will be 8597468 people. It's +0.62% (53360 people) compared with the population of New York City on 01 Jul 2024. These data (statistics and projection) are based on information from the United Nations and Census on the assessment ...\"},\n",
       " {'title': 'How has the population of New York changed over time?',\n",
       "  'href': 'https://www.ncesc.com/geographic-pedia/how-has-the-population-of-new-york-changed-over-time/',\n",
       "  'body': 'Current Population Trends and Projections. As of 2023, the current metro area population of New York City stands at 18,937,000, with a 0.37% increase from the previous year. These figures indicate that New York City remains a fast-growing city, although the growth rate has slowed down in recent years.'}]"
      ]
     },
     "execution_count": 8,
     "metadata": {},
     "output_type": "execute_result"
    }
   ],
   "source": [
    "# step 2\n",
    "\n",
    "search_res = internet_search('the current population of New York city')\n",
    "search_res"
   ]
  },
  {
   "cell_type": "code",
   "execution_count": null,
   "metadata": {},
   "outputs": [],
   "source": []
  }
 ],
 "metadata": {
  "kernelspec": {
   "display_name": "Python 3",
   "language": "python",
   "name": "python3"
  },
  "language_info": {
   "codemirror_mode": {
    "name": "ipython",
    "version": 3
   },
   "file_extension": ".py",
   "mimetype": "text/x-python",
   "name": "python",
   "nbconvert_exporter": "python",
   "pygments_lexer": "ipython3",
   "version": "3.10.13"
  }
 },
 "nbformat": 4,
 "nbformat_minor": 2
}
