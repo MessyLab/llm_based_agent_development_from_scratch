{
 "cells": [
  {
   "cell_type": "markdown",
   "metadata": {},
   "source": [
    "# ReAct"
   ]
  },
  {
   "cell_type": "code",
   "execution_count": 1,
   "metadata": {},
   "outputs": [],
   "source": [
    "from openai import OpenAI\n",
    "from typing import List, Dict, Optional, Union\n",
    "\n",
    "def ask(messages: List[Dict],is_json:bool = False, stop: Optional[Union[str, List]] = None):\n",
    "        client = OpenAI(api_key='YOUR OPENAI KEY')\n",
    "\n",
    "        if is_json:\n",
    "                response = client.chat.completions.create(\n",
    "                        model = 'gpt-4o-mini-2024-07-18',\n",
    "                        temperature = 0.7,\n",
    "                        messages = messages,\n",
    "                        response_format={ \"type\": \"json_object\" },\n",
    "                        stop = stop\n",
    "                )\n",
    "        else:\n",
    "                response = client.chat.completions.create(\n",
    "                        model = 'gpt-4o-mini-2024-07-18',\n",
    "                        temperature = 0.7,\n",
    "                        messages = messages,\n",
    "                        stop = stop\n",
    "                )\n",
    "\n",
    "        return response"
   ]
  },
  {
   "cell_type": "code",
   "execution_count": 2,
   "metadata": {},
   "outputs": [],
   "source": [
    "## Web Search\n",
    "from search import internet_search, process_content\n",
    "\n",
    "class WebSearch:\n",
    "    def __init__(self, name:str='web_search', threhold:int=8000):\n",
    "        self.system_prompt = \"\"\"\n",
    "You are a Insight Researcher.\n",
    "\n",
    "1. To find detail informtion for the user query\n",
    "and summary the content into one sentence as simple as possible\n",
    "2. If the user's question is about specific numerical values, \n",
    "only return the numerical results without any additional explanation.\n",
    "\"\"\"\n",
    "        self.name = name\n",
    "        self.description = \"the tool use for web search\"\n",
    "        self.threhold = threhold\n",
    "\n",
    "    def __call__(self, query:str):\n",
    "        results = internet_search(query)\n",
    "        all_text = \"\"\n",
    "        windows_size = 0\n",
    "        for item in results:\n",
    "            if windows_size >= self.threhold:\n",
    "                break\n",
    "            page_content = process_content(item['href'])\n",
    "            for page in page_content:\n",
    "                if windows_size + len(page) > self.threhold:\n",
    "                    remaining_space = self.threhold - windows_size\n",
    "                    all_text += page[:remaining_space].strip() + \"\\n\\n\"\n",
    "                    windows_size = self.threhold\n",
    "                    break\n",
    "                else:\n",
    "                    windows_size += len(page)\n",
    "                    all_text += page + \"\\n\\n\"\n",
    "            if windows_size >= self.threhold:\n",
    "                break\n",
    "\n",
    "        msg = [{\"role\":\"system\",\"content\":self.system_prompt},\n",
    "               {\"role\":\"user\", \"content\": f\"The query is {query}, The search results are {all_text}\"}]\n",
    "        \n",
    "        answer = ask(messages=msg)\n",
    "\n",
    "        return answer.choices[0].message.content"
   ]
  },
  {
   "cell_type": "code",
   "execution_count": 3,
   "metadata": {},
   "outputs": [],
   "source": [
    "# system prompt\n",
    "react_prompt = \"\"\"\n",
    "Answer the following questions as best you can. You have access to the following tools:\n",
    "\n",
    "{tools}\n",
    "\n",
    "Use the following format:\n",
    "\n",
    "Question: the input question you must answer\n",
    "Thought: you should always think about what to do\n",
    "Action: the action to take, should be one of [{tool_names}]\n",
    "Action Input: the input to the action, return format like `action_input`\n",
    "Observation: the result of the action\n",
    "... (this Thought/Action/Action Input/Observation can repeat N times)\n",
    "Thought: I now know the final answer\n",
    "Final Answer: the final answer to the original input question\n",
    "\n",
    "Begin!\n",
    "\n",
    "Question: {input}\n",
    "\"\"\""
   ]
  },
  {
   "cell_type": "code",
   "execution_count": 4,
   "metadata": {},
   "outputs": [],
   "source": [
    "query = \"2024 UEFA European Championship and 2024 Copa América champion\""
   ]
  },
  {
   "cell_type": "code",
   "execution_count": 5,
   "metadata": {},
   "outputs": [],
   "source": [
    "search = WebSearch()\n",
    "available_tools = {search.name: search}"
   ]
  },
  {
   "cell_type": "code",
   "execution_count": 6,
   "metadata": {},
   "outputs": [
    {
     "name": "stdout",
     "output_type": "stream",
     "text": [
      "\n",
      "Answer the following questions as best you can. You have access to the following tools:\n",
      "\n",
      "the tool use for web search\n",
      "\n",
      "Use the following format:\n",
      "\n",
      "Question: the input question you must answer\n",
      "Thought: you should always think about what to do\n",
      "Action: the action to take, should be one of [web_search]\n",
      "Action Input: the input to the action, return format like `action_input`\n",
      "Observation: the result of the action\n",
      "... (this Thought/Action/Action Input/Observation can repeat N times)\n",
      "Thought: I now know the final answer\n",
      "Final Answer: the final answer to the original input question\n",
      "\n",
      "Begin!\n",
      "\n",
      "Question: 2024 UEFA European Championship and 2024 Copa América champion\n",
      "\n"
     ]
    }
   ],
   "source": [
    "# constructure prompt\n",
    "user_prompt = react_prompt.format(tools=search.description, \n",
    "                                    tool_names=search.name,\n",
    "                                    input=query,\n",
    "                                    agent_scratchpad='')\n",
    "print(user_prompt)"
   ]
  },
  {
   "cell_type": "code",
   "execution_count": 7,
   "metadata": {},
   "outputs": [
    {
     "name": "stdout",
     "output_type": "stream",
     "text": [
      "Thought: I need to find out the champions of the 2024 UEFA European Championship and the 2024 Copa América, as these events are in the future and their outcomes are not yet known. I will perform a web search to find the latest information regarding these tournaments. \n",
      "Action: web_search\n",
      "Action Input: \"2024 UEFA European Championship champion\" \n",
      "\n"
     ]
    }
   ],
   "source": [
    "# 1st ask llm\n",
    "messages = [\n",
    "    {\"role\":\"user\", \"content\":user_prompt},\n",
    "]\n",
    "\n",
    "result1 = ask(messages=messages,\n",
    "              stop=[\"Observation\", \" Observation\"])\n",
    "intermediate_step1 = result1.choices[0].message.content\n",
    "print(intermediate_step1)"
   ]
  },
  {
   "cell_type": "code",
   "execution_count": 8,
   "metadata": {},
   "outputs": [
    {
     "name": "stdout",
     "output_type": "stream",
     "text": [
      "web_search\n",
      "2024 UEFA European Championship champion\" \n"
     ]
    }
   ],
   "source": [
    "import re\n",
    "# parse the 1st result\n",
    "regex = (\n",
    "            r\"Action\\s*\\d*\\s*:[\\s]*(.*?)[\\s]*Action\\s*\\d*\\s*Input\\s*\\d*\\s*:[\\s]*(.*)\"\n",
    "        )\n",
    "action_match = re.search(regex, intermediate_step1, re.DOTALL)\n",
    "action = action_match.group(1).strip()\n",
    "action_input = action_match.group(2)\n",
    "tool_input = action_input.strip(\" \").strip('\\n').strip('\"')\n",
    "print(action)\n",
    "print(tool_input)"
   ]
  },
  {
   "cell_type": "code",
   "execution_count": 9,
   "metadata": {},
   "outputs": [
    {
     "name": "stdout",
     "output_type": "stream",
     "text": [
      "2024 UEFA European Championship champion\" \n",
      "Spain won the 2024 UEFA European Championship, defeating England 2-1 in the final.\n"
     ]
    }
   ],
   "source": [
    "# call tool function\n",
    "tool_function1 = available_tools[action]\n",
    "print(tool_input)\n",
    "tool_result1 = tool_function1(query=str(tool_input))\n",
    "print(tool_result1)"
   ]
  },
  {
   "cell_type": "code",
   "execution_count": 10,
   "metadata": {},
   "outputs": [
    {
     "name": "stdout",
     "output_type": "stream",
     "text": [
      "\n",
      "Answer the following questions as best you can. You have access to the following tools:\n",
      "\n",
      "the tool use for web search\n",
      "\n",
      "Use the following format:\n",
      "\n",
      "Question: the input question you must answer\n",
      "Thought: you should always think about what to do\n",
      "Action: the action to take, should be one of [web_search]\n",
      "Action Input: the input to the action, return format like `action_input`\n",
      "Observation: the result of the action\n",
      "... (this Thought/Action/Action Input/Observation can repeat N times)\n",
      "Thought: I now know the final answer\n",
      "Final Answer: the final answer to the original input question\n",
      "\n",
      "Begin!\n",
      "\n",
      "Question: 2024 UEFA European Championship and 2024 Copa América champion\n",
      "Thought: I need to find out the champions of the 2024 UEFA European Championship and the 2024 Copa América, as these events are in the future and their outcomes are not yet known. I will perform a web search to find the latest information regarding these tournaments. \n",
      "Action: web_search\n",
      "Action Input: \"2024 UEFA European Championship champion\" \n",
      "\n"
     ]
    }
   ],
   "source": [
    "user_prompt += intermediate_step1\n",
    "print(user_prompt)"
   ]
  },
  {
   "cell_type": "code",
   "execution_count": 11,
   "metadata": {},
   "outputs": [
    {
     "name": "stdout",
     "output_type": "stream",
     "text": [
      "\n",
      "Answer the following questions as best you can. You have access to the following tools:\n",
      "\n",
      "the tool use for web search\n",
      "\n",
      "Use the following format:\n",
      "\n",
      "Question: the input question you must answer\n",
      "Thought: you should always think about what to do\n",
      "Action: the action to take, should be one of [web_search]\n",
      "Action Input: the input to the action, return format like `action_input`\n",
      "Observation: the result of the action\n",
      "... (this Thought/Action/Action Input/Observation can repeat N times)\n",
      "Thought: I now know the final answer\n",
      "Final Answer: the final answer to the original input question\n",
      "\n",
      "Begin!\n",
      "\n",
      "Question: 2024 UEFA European Championship and 2024 Copa América champion\n",
      "Thought: I need to find out the champions of the 2024 UEFA European Championship and the 2024 Copa América, as these events are in the future and their outcomes are not yet known. I will perform a web search to find the latest information regarding these tournaments. \n",
      "Action: web_search\n",
      "Action Input: \"2024 UEFA European Championship champion\" \n",
      "Observation: Spain won the 2024 UEFA European Championship, defeating England 2-1 in the final.\n",
      "Thought:\n"
     ]
    }
   ],
   "source": [
    "user_prompt += f\"Observation: {tool_result1}\\nThought:\"\n",
    "print(user_prompt)"
   ]
  },
  {
   "cell_type": "code",
   "execution_count": 12,
   "metadata": {},
   "outputs": [
    {
     "name": "stdout",
     "output_type": "stream",
     "text": [
      "I have found the champion of the 2024 UEFA European Championship; Spain won the tournament. Now I need to find out the champion of the 2024 Copa América. \n",
      "Action: web_search\n",
      "Action Input: \"2024 Copa América champion\" \n",
      "\n"
     ]
    }
   ],
   "source": [
    "# 2ed ask llm\n",
    "messages = [\n",
    "    {\"role\":\"user\", \"content\":user_prompt},\n",
    "]\n",
    "\n",
    "result2 = ask(messages=messages,\n",
    "              stop=[\"Observation\", \" Observation\"])\n",
    "intermediate_step2 = result2.choices[0].message.content\n",
    "print(intermediate_step2)"
   ]
  },
  {
   "cell_type": "code",
   "execution_count": 13,
   "metadata": {},
   "outputs": [
    {
     "name": "stdout",
     "output_type": "stream",
     "text": [
      "\n",
      "Answer the following questions as best you can. You have access to the following tools:\n",
      "\n",
      "the tool use for web search\n",
      "\n",
      "Use the following format:\n",
      "\n",
      "Question: the input question you must answer\n",
      "Thought: you should always think about what to do\n",
      "Action: the action to take, should be one of [web_search]\n",
      "Action Input: the input to the action, return format like `action_input`\n",
      "Observation: the result of the action\n",
      "... (this Thought/Action/Action Input/Observation can repeat N times)\n",
      "Thought: I now know the final answer\n",
      "Final Answer: the final answer to the original input question\n",
      "\n",
      "Begin!\n",
      "\n",
      "Question: 2024 UEFA European Championship and 2024 Copa América champion\n",
      "Thought: I need to find out the champions of the 2024 UEFA European Championship and the 2024 Copa América, as these events are in the future and their outcomes are not yet known. I will perform a web search to find the latest information regarding these tournaments. \n",
      "Action: web_search\n",
      "Action Input: \"2024 UEFA European Championship champion\" \n",
      "Observation: Spain won the 2024 UEFA European Championship, defeating England 2-1 in the final.\n",
      "Thought:I have found the champion of the 2024 UEFA European Championship; Spain won the tournament. Now I need to find out the champion of the 2024 Copa América. \n",
      "Action: web_search\n",
      "Action Input: \"2024 Copa América champion\" \n",
      "\n"
     ]
    }
   ],
   "source": [
    "user_prompt += intermediate_step2\n",
    "print(user_prompt)"
   ]
  },
  {
   "cell_type": "code",
   "execution_count": 14,
   "metadata": {},
   "outputs": [
    {
     "name": "stdout",
     "output_type": "stream",
     "text": [
      "web_search\n",
      "2024 Copa América champion\" \n",
      "web_search\n",
      "2024 Copa América champion\" \n",
      "Argentina won the 2024 Copa América, defeating Colombia 1-0 with a late goal in the 112th minute.\n"
     ]
    }
   ],
   "source": [
    "import re\n",
    "# parse the 1st result\n",
    "regex = (\n",
    "            r\"Action\\s*\\d*\\s*:[\\s]*(.*?)[\\s]*Action\\s*\\d*\\s*Input\\s*\\d*\\s*:[\\s]*(.*)\"\n",
    "        )\n",
    "action_match = re.search(regex, intermediate_step2, re.DOTALL)\n",
    "action = action_match.group(1).strip()\n",
    "action_input = action_match.group(2)\n",
    "tool_input = action_input.strip(\" \").strip('\\n').strip('\"')\n",
    "print(action)\n",
    "print(tool_input)\n",
    "# call tool function\n",
    "tool_function2 = available_tools[action]\n",
    "print(tool_function2.name)\n",
    "print(tool_input)\n",
    "tool_result2 = search(query=str(tool_input))\n",
    "print(tool_result2)"
   ]
  },
  {
   "cell_type": "code",
   "execution_count": 15,
   "metadata": {},
   "outputs": [
    {
     "name": "stdout",
     "output_type": "stream",
     "text": [
      "\n",
      "Answer the following questions as best you can. You have access to the following tools:\n",
      "\n",
      "the tool use for web search\n",
      "\n",
      "Use the following format:\n",
      "\n",
      "Question: the input question you must answer\n",
      "Thought: you should always think about what to do\n",
      "Action: the action to take, should be one of [web_search]\n",
      "Action Input: the input to the action, return format like `action_input`\n",
      "Observation: the result of the action\n",
      "... (this Thought/Action/Action Input/Observation can repeat N times)\n",
      "Thought: I now know the final answer\n",
      "Final Answer: the final answer to the original input question\n",
      "\n",
      "Begin!\n",
      "\n",
      "Question: 2024 UEFA European Championship and 2024 Copa América champion\n",
      "Thought: I need to find out the champions of the 2024 UEFA European Championship and the 2024 Copa América, as these events are in the future and their outcomes are not yet known. I will perform a web search to find the latest information regarding these tournaments. \n",
      "Action: web_search\n",
      "Action Input: \"2024 UEFA European Championship champion\" \n",
      "Observation: Spain won the 2024 UEFA European Championship, defeating England 2-1 in the final.\n",
      "Thought:I have found the champion of the 2024 UEFA European Championship; Spain won the tournament. Now I need to find out the champion of the 2024 Copa América. \n",
      "Action: web_search\n",
      "Action Input: \"2024 Copa América champion\" \n",
      "Observation: Argentina won the 2024 Copa América, defeating Colombia 1-0 with a late goal in the 112th minute.\n",
      "Thought:\n"
     ]
    }
   ],
   "source": [
    "user_prompt += f\"Observation: {tool_result2}\\nThought:\"\n",
    "print(user_prompt)"
   ]
  },
  {
   "cell_type": "code",
   "execution_count": 16,
   "metadata": {},
   "outputs": [
    {
     "name": "stdout",
     "output_type": "stream",
     "text": [
      "I have found the champion of the 2024 Copa América; Argentina won the tournament. \n",
      "\n",
      "Final Answer: Spain won the 2024 UEFA European Championship, and Argentina won the 2024 Copa América.\n"
     ]
    }
   ],
   "source": [
    "# 3rd call LLM\n",
    "messages = [\n",
    "    {\"role\":\"user\", \"content\":user_prompt},\n",
    "]\n",
    "\n",
    "result3 = ask(messages=messages,\n",
    "              stop=[\"Observation\", \" Observation\"])\n",
    "intermediate_step3 = result3.choices[0].message.content\n",
    "print(intermediate_step3)"
   ]
  },
  {
   "cell_type": "code",
   "execution_count": null,
   "metadata": {},
   "outputs": [],
   "source": []
  }
 ],
 "metadata": {
  "kernelspec": {
   "display_name": "pytorch",
   "language": "python",
   "name": "python3"
  },
  "language_info": {
   "codemirror_mode": {
    "name": "ipython",
    "version": 3
   },
   "file_extension": ".py",
   "mimetype": "text/x-python",
   "name": "python",
   "nbconvert_exporter": "python",
   "pygments_lexer": "ipython3",
   "version": "3.12.4"
  }
 },
 "nbformat": 4,
 "nbformat_minor": 2
}
